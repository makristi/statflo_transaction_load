{
 "cells": [
  {
   "cell_type": "code",
   "execution_count": 1,
   "metadata": {},
   "outputs": [],
   "source": [
    "import pandas as pd\n",
    "import mysql.connector\n",
    "\n",
    "# connect to mysql\n",
    "conn = mysql.connector.connect(user='root', password='password',\n",
    "                              host='127.0.0.1', port=3306, database='store_transactions',\n",
    "                              auth_plugin='mysql_native_password')\n",
    "cur = conn.cursor()\n",
    "    \n",
    "# read csv with pandas\n",
    "csv_data = pd.read_csv(\"transactions_csv.csv\") "
   ]
  },
  {
   "cell_type": "code",
   "execution_count": 2,
   "metadata": {},
   "outputs": [],
   "source": [
    "# insert data into products table\n",
    "product_df = csv_data['product_name'].str.lower().drop_duplicates()\n",
    "for row in product_df:\n",
    "    cur.execute('''INSERT IGNORE INTO products (name) VALUES ('%s')''' % row)\n",
    "    conn.commit()\n",
    "\n",
    "# insert data into stores table\n",
    "store_df = csv_data['store_name'].str.title().drop_duplicates()\n",
    "for row in store_df:\n",
    "    cur.execute('''INSERT IGNORE INTO stores (name) VALUES ('%s')''' % row)\n",
    "    conn.commit()\n",
    "    \n",
    "# insert data into sales_reps table\n",
    "sales_rep_df = pd.DataFrame(csv_data.sales_representative_name.str.title().\\\n",
    "    drop_duplicates().str.split(' ',1).tolist(), columns = ['first_name','last_name'])\n",
    "for i, row in sales_rep_df.iterrows():\n",
    "    cur.execute('''INSERT IGNORE INTO sales_reps (first_name, last_name) VALUES \\\n",
    "    (\"%s\", \"%s\")''' % (row.first_name, row.last_name))\n",
    "    conn.commit()\n",
    "\n",
    "# insert data into customers table\n",
    "customer_df = pd.DataFrame(csv_data.client_name.str.title().\\\n",
    "    drop_duplicates().str.split(' ',1).tolist(), columns = ['first_name','last_name'])\n",
    "for i, row in customer_df.iterrows():\n",
    "    cur.execute('''INSERT IGNORE INTO customers (first_name, last_name) VALUES \\\n",
    "    (\"%s\", \"%s\")''' % (row.first_name, row.last_name))\n",
    "    conn.commit()\n",
    "\n",
    "# insert data into transaction/order table\n",
    "for index, row in csv_data.iterrows():\n",
    "    # get FK ids\n",
    "    sql = '''SELECT \n",
    "    (SELECT product_id FROM products WHERE name = lower('{0}')) as product_id, \\\n",
    "    (SELECT store_id FROM stores WHERE name = lower('{1}')) as store_id, \\\n",
    "    (SELECT customer_id FROM customers WHERE first_name  = SUBSTRING_INDEX('{2}', ' ', 1) \\\n",
    "        AND  last_name = SUBSTRING_INDEX('{2}', ' ', -1)) as customer_id, \\\n",
    "    (SELECT sales_rep_id FROM sales_reps WHERE first_name = SUBSTRING_INDEX('{3}', ' ', 1) \\\n",
    "        AND  last_name = SUBSTRING_INDEX('{3}', ' ', -1)) as sales_rep_id '''.\\\n",
    "    format(row.product_name, row.store_name, row.client_name.title(), \\\n",
    "           row.sales_representative_name.title())\n",
    "    cur.execute(sql)\n",
    "    prod_id, store_id, cust_id, rep_id = cur.fetchone()\n",
    "\n",
    "    transaction_df = (row.transaction_id, row.transaction_date, prod_id, store_id, cust_id, rep_id, row.price)\n",
    "    cur.execute('''INSERT IGNORE INTO transactions(transaction_id, transaction_date, product_id, \\\n",
    "               store_id, customer_id, sales_rep_id, price) VALUES (%s, %s, %s, %s, %s, %s, %s)''', transaction_df)\n",
    "    conn.commit()"
   ]
  },
  {
   "cell_type": "code",
   "execution_count": 3,
   "metadata": {},
   "outputs": [
    {
     "data": {
      "text/html": [
       "<div>\n",
       "<style scoped>\n",
       "    .dataframe tbody tr th:only-of-type {\n",
       "        vertical-align: middle;\n",
       "    }\n",
       "\n",
       "    .dataframe tbody tr th {\n",
       "        vertical-align: top;\n",
       "    }\n",
       "\n",
       "    .dataframe thead th {\n",
       "        text-align: right;\n",
       "    }\n",
       "</style>\n",
       "<table border=\"1\" class=\"dataframe\">\n",
       "  <thead>\n",
       "    <tr style=\"text-align: right;\">\n",
       "      <th></th>\n",
       "      <th>first_name</th>\n",
       "      <th>last_name</th>\n",
       "      <th>total_purchase</th>\n",
       "    </tr>\n",
       "  </thead>\n",
       "  <tbody>\n",
       "    <tr>\n",
       "      <td>0</td>\n",
       "      <td>Ananya</td>\n",
       "      <td>Werner</td>\n",
       "      <td>12.4</td>\n",
       "    </tr>\n",
       "    <tr>\n",
       "      <td>1</td>\n",
       "      <td>Miranda</td>\n",
       "      <td>Nash</td>\n",
       "      <td>8.5</td>\n",
       "    </tr>\n",
       "    <tr>\n",
       "      <td>2</td>\n",
       "      <td>Gabriel</td>\n",
       "      <td>Palmer</td>\n",
       "      <td>4.5</td>\n",
       "    </tr>\n",
       "  </tbody>\n",
       "</table>\n",
       "</div>"
      ],
      "text/plain": [
       "  first_name last_name  total_purchase\n",
       "0     Ananya    Werner            12.4\n",
       "1    Miranda      Nash             8.5\n",
       "2    Gabriel    Palmer             4.5"
      ]
     },
     "execution_count": 3,
     "metadata": {},
     "output_type": "execute_result"
    }
   ],
   "source": [
    "#execute query\n",
    "sql = '''\n",
    "select c.first_name, c.last_name, (select sum(price) from transactions where customer_id = c.customer_id) as total_purchases\n",
    "from transactions tr\n",
    "join stores s using(store_id)\n",
    "join products pr using(product_id)\n",
    "join customers c using(customer_id)\n",
    "join (SELECT customer_id, store_id, max(transaction_date) as last_date FROM transactions group by customer_id, store_id) tr2 on tr.customer_id=tr2.customer_id and tr.store_id = tr2.store_id\n",
    "and tr.transaction_date = last_date\n",
    "where s.name = '%s'\n",
    "and pr.name = '%s'\n",
    "order by total_purchases desc''' % ('King St', 'cappuccino')\n",
    "cur.execute(sql)\n",
    "myresult = cur.fetchall()\n",
    "pd.DataFrame(myresult, columns = [\"first_name\", \"last_name\", \"total_purchase\"])"
   ]
  },
  {
   "cell_type": "code",
   "execution_count": 5,
   "metadata": {},
   "outputs": [
    {
     "data": {
      "text/plain": [
       "<bound method MySQLConnection.close of <mysql.connector.connection.MySQLConnection object at 0x000002241F1C3F88>>"
      ]
     },
     "execution_count": 5,
     "metadata": {},
     "output_type": "execute_result"
    }
   ],
   "source": [
    "# Close connection\n",
    "conn.close\n"
   ]
  },
  {
   "cell_type": "code",
   "execution_count": null,
   "metadata": {},
   "outputs": [],
   "source": []
  }
 ],
 "metadata": {
  "kernelspec": {
   "display_name": "Python 3",
   "language": "python",
   "name": "python3"
  },
  "language_info": {
   "codemirror_mode": {
    "name": "ipython",
    "version": 3
   },
   "file_extension": ".py",
   "mimetype": "text/x-python",
   "name": "python",
   "nbconvert_exporter": "python",
   "pygments_lexer": "ipython3",
   "version": "3.7.4"
  }
 },
 "nbformat": 4,
 "nbformat_minor": 2
}
